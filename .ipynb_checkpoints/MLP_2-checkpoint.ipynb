{
 "cells": [
  {
   "cell_type": "code",
   "execution_count": 1,
   "id": "0ff8a67c",
   "metadata": {},
   "outputs": [],
   "source": [
    "import torch\n",
    "import matplotlib.pyplot as plt\n",
    "%matplotlib inline\n",
    "import torch.nn.functional as F"
   ]
  },
  {
   "cell_type": "code",
   "execution_count": 2,
   "id": "67228974",
   "metadata": {},
   "outputs": [
    {
     "data": {
      "text/plain": [
       "30000"
      ]
     },
     "execution_count": 2,
     "metadata": {},
     "output_type": "execute_result"
    }
   ],
   "source": [
    "# Open txt files\n",
    "\n",
    "\n",
    "# train = open('Training.txt','r').read().splitlines()\n",
    "test = open('./data/test.txt').read().splitlines()\n",
    "dev = open('./data/dev.txt').read().splitlines()\n",
    "words = open('./data/Training.txt').read().splitlines()\n",
    "len(words)"
   ]
  },
  {
   "cell_type": "code",
   "execution_count": 10,
   "id": "acdbe4d7",
   "metadata": {},
   "outputs": [
    {
     "data": {
      "text/plain": [
       "{1: 'a',\n",
       " 2: 'b',\n",
       " 3: 'c',\n",
       " 4: 'd',\n",
       " 5: 'e',\n",
       " 6: 'f',\n",
       " 7: 'g',\n",
       " 8: 'h',\n",
       " 9: 'i',\n",
       " 10: 'j',\n",
       " 11: 'k',\n",
       " 12: 'l',\n",
       " 13: 'm',\n",
       " 14: 'n',\n",
       " 15: 'o',\n",
       " 16: 'p',\n",
       " 17: 'q',\n",
       " 18: 'r',\n",
       " 19: 's',\n",
       " 20: 't',\n",
       " 21: 'u',\n",
       " 22: 'v',\n",
       " 23: 'w',\n",
       " 24: 'x',\n",
       " 25: 'y',\n",
       " 26: 'z',\n",
       " 0: '.'}"
      ]
     },
     "execution_count": 10,
     "metadata": {},
     "output_type": "execute_result"
    }
   ],
   "source": [
    "# letter to number mapping\n",
    "\n",
    "chars = sorted(list(set(''.join(words))))\n",
    "stoi = {s:i+1 for i,s in enumerate(chars)}\n",
    "stoi['.'] = 0\n",
    "itos = {i:s for s,i in stoi.items()}\n",
    "itos"
   ]
  },
  {
   "cell_type": "code",
   "execution_count": 14,
   "id": "a8b65eb9",
   "metadata": {},
   "outputs": [
    {
     "name": "stdout",
     "output_type": "stream",
     "text": [
      "torch.Size([313130, 3]) torch.Size([313130])\n",
      "torch.Size([104449, 3]) torch.Size([104449])\n",
      "torch.Size([104449, 3]) torch.Size([104449])\n"
     ]
    }
   ],
   "source": [
    "\n",
    "# Creates the 3 data sets\n",
    "# Each one is composed of \"blocks\" of letters up to our choosing. \n",
    "# Here, we chose 3 so the word \"one\" would be shown as [0,0,'0],[0,0,'o'],[0,'o','n'],['o','n','e']\n",
    "\n",
    "block = 3\n",
    "\n",
    "def dataset(words):\n",
    "\n",
    "\n",
    "    X,Y = [],[]\n",
    "\n",
    "    for w in words:\n",
    "\n",
    "    #     print(w)\n",
    "\n",
    "        context = [0] * block\n",
    "        for ch in w + '.':\n",
    "            ix = stoi[ch]\n",
    "            X.append(context)\n",
    "            Y.append(ix)\n",
    "\n",
    "    #         print(''.join(itos[i] for i in context), itos[ix])\n",
    "            context = context[1:] + [ix]\n",
    "\n",
    "    X = torch.tensor(X)\n",
    "    Y = torch.tensor(Y)\n",
    "    print(X.shape,Y.shape)\n",
    "    return X,Y\n",
    "\n",
    "Xtr, Ytr = dataset(words)\n",
    "Xdev,Ydev = dataset(dev)\n",
    "Xte, Yte = dataset(test)"
   ]
  },
  {
   "cell_type": "code",
   "execution_count": 18,
   "id": "5ae52ebb",
   "metadata": {},
   "outputs": [
    {
     "data": {
      "text/plain": [
       "torch.Size([200])"
      ]
     },
     "execution_count": 18,
     "metadata": {},
     "output_type": "execute_result"
    }
   ],
   "source": [
    "# Initializes the neural network. Embedding chooses the dimensionality of the initial neuron and hiddenN is the hidden\n",
    "# Neurons in the one hidden layer\n",
    "\n",
    "embedding = 10\n",
    "hiddenN = 200\n",
    "\n",
    "\n",
    "# Weights and biases normalized\n",
    "W1 = torch.randn((embedding * block, hiddenN)) * (5/3)/((embedding * block)**2)\n",
    "b1 = torch.randn(hiddenN) * 0\n",
    "\n",
    "W2 = torch.randn((hiddenN, hiddenN)) * (5/3) / hiddenN**0.5\n",
    "b2 = torch.randn(hiddenN) * 0\n",
    "\n",
    "\n",
    "W3 = torch.randn((hiddenN,27)) * 0.1\n",
    "b3 = torch.randn(27) * 0\n",
    "C = torch.randn(27,embedding)\n",
    "parameters = [C,W1,b1,W2, b2, W3,b3]\n",
    "\n",
    "for p in parameters:\n",
    "    p.requires_grad=True\n",
    "\n",
    "b1.size()"
   ]
  },
  {
   "cell_type": "code",
   "execution_count": 33,
   "id": "768a942b",
   "metadata": {},
   "outputs": [
    {
     "name": "stdout",
     "output_type": "stream",
     "text": [
      "      0/100000: 2.3779208660125732\n",
      "   1000/100000: 2.1416640281677246\n",
      "   2000/100000: 2.1787915229797363\n",
      "   3000/100000: 2.1258585453033447\n",
      "   4000/100000: 1.8950992822647095\n",
      "   5000/100000: 2.5503604412078857\n",
      "   6000/100000: 2.1011734008789062\n",
      "   7000/100000: 2.4754693508148193\n",
      "   8000/100000: 2.399463653564453\n",
      "   9000/100000: 2.020113229751587\n",
      "  10000/100000: 2.500173330307007\n",
      "  11000/100000: 2.1690151691436768\n",
      "  12000/100000: 2.343472719192505\n",
      "  13000/100000: 1.9356708526611328\n",
      "  14000/100000: 2.4384565353393555\n",
      "  15000/100000: 2.4625463485717773\n",
      "  16000/100000: 2.0897140502929688\n",
      "  17000/100000: 2.128575086593628\n",
      "  18000/100000: 2.0261826515197754\n",
      "  19000/100000: 2.308924674987793\n",
      "  20000/100000: 2.496532678604126\n",
      "  21000/100000: 2.492169141769409\n",
      "  22000/100000: 1.8134591579437256\n",
      "  23000/100000: 2.0949201583862305\n",
      "  24000/100000: 2.0956027507781982\n",
      "  25000/100000: 2.683985471725464\n",
      "  26000/100000: 2.7576911449432373\n",
      "  27000/100000: 2.082909345626831\n",
      "  28000/100000: 1.9972825050354004\n",
      "  29000/100000: 2.057457447052002\n",
      "  30000/100000: 1.993114709854126\n",
      "  31000/100000: 2.3273348808288574\n",
      "  32000/100000: 2.2562921047210693\n",
      "  33000/100000: 2.250002145767212\n",
      "  34000/100000: 2.3069982528686523\n",
      "  35000/100000: 1.89876127243042\n",
      "  36000/100000: 2.007080554962158\n",
      "  37000/100000: 2.187739849090576\n",
      "  38000/100000: 2.366626024246216\n",
      "  39000/100000: 2.3252596855163574\n",
      "  40000/100000: 2.12874698638916\n",
      "  41000/100000: 1.9160000085830688\n",
      "  42000/100000: 2.4702064990997314\n",
      "  43000/100000: 2.0364489555358887\n",
      "  44000/100000: 2.0810272693634033\n",
      "  45000/100000: 2.0874972343444824\n",
      "  46000/100000: 2.2171425819396973\n",
      "  47000/100000: 2.325200319290161\n",
      "  48000/100000: 2.2341320514678955\n",
      "  49000/100000: 2.651104211807251\n",
      "  50000/100000: 2.0164690017700195\n",
      "  51000/100000: 2.465731620788574\n",
      "  52000/100000: 2.1414551734924316\n",
      "  53000/100000: 2.113861560821533\n",
      "  54000/100000: 1.9556905031204224\n",
      "  55000/100000: 2.1687161922454834\n",
      "  56000/100000: 2.5226640701293945\n",
      "  57000/100000: 2.027735948562622\n",
      "  58000/100000: 2.5372509956359863\n",
      "  59000/100000: 2.0837044715881348\n",
      "  60000/100000: 2.5475406646728516\n",
      "  61000/100000: 2.390310764312744\n",
      "  62000/100000: 2.7236826419830322\n",
      "  63000/100000: 2.4337270259857178\n",
      "  64000/100000: 2.1916871070861816\n",
      "  65000/100000: 2.3422842025756836\n",
      "  66000/100000: 2.2571656703948975\n",
      "  67000/100000: 2.463653564453125\n",
      "  68000/100000: 2.6204819679260254\n",
      "  69000/100000: 2.259242534637451\n",
      "  70000/100000: 2.469416618347168\n",
      "  71000/100000: 2.520900249481201\n",
      "  72000/100000: 2.242135763168335\n",
      "  73000/100000: 1.997017741203308\n",
      "  74000/100000: 2.0892510414123535\n",
      "  75000/100000: 2.180241823196411\n",
      "  76000/100000: 2.360109806060791\n",
      "  77000/100000: 2.4508583545684814\n",
      "  78000/100000: 2.4346461296081543\n",
      "  79000/100000: 2.3385491371154785\n",
      "  80000/100000: 2.030611276626587\n",
      "  81000/100000: 2.1176912784576416\n",
      "  82000/100000: 2.5589890480041504\n",
      "  83000/100000: 2.4436445236206055\n",
      "  84000/100000: 1.9443943500518799\n",
      "  85000/100000: 2.4296977519989014\n",
      "  86000/100000: 1.9350663423538208\n",
      "  87000/100000: 2.419340133666992\n",
      "  88000/100000: 2.3967347145080566\n",
      "  89000/100000: 2.300541400909424\n",
      "  90000/100000: 2.1761744022369385\n",
      "  91000/100000: 2.6888418197631836\n",
      "  92000/100000: 2.6372430324554443\n",
      "  93000/100000: 2.307980537414551\n",
      "  94000/100000: 2.062338352203369\n",
      "  95000/100000: 2.319122076034546\n",
      "  96000/100000: 2.1467628479003906\n",
      "  97000/100000: 2.1012003421783447\n",
      "  98000/100000: 2.377164602279663\n",
      "  99000/100000: 2.1481876373291016\n",
      "1.8713290691375732\n"
     ]
    }
   ],
   "source": [
    "# This runs the model on our data\n",
    "\n",
    "steps = 100000\n",
    "batchSize = 32\n",
    "\n",
    "for i in range(steps):\n",
    "    \n",
    "    #Runs on batches\n",
    "    batch = torch.randint(0,Xtr.shape[0],(batchSize,))\n",
    "    Xb, Yb = Xtr[batch], Ytr[batch]\n",
    "    \n",
    "    # Forward pass\n",
    "    emb = C[Xb]\n",
    "    k = torch.tanh(emb.view(emb.shape[0],-1) @ W1 + b1)\n",
    "    k2 = torch.tanh(k @ W2 + b2)\n",
    "    logits = k2 @ W3 + b3\n",
    "    \n",
    "    #Calculates loss\n",
    "    loss = F.cross_entropy(logits,Yb)\n",
    "\n",
    "    for p in parameters:\n",
    "        p.grad = None\n",
    "    \n",
    "    #Backwards pass\n",
    "    loss.backward()\n",
    "    \n",
    "    for p in parameters:\n",
    "        p.data+= -0.001 *p.grad\n",
    "        \n",
    "    if i % 10000 == 0:\n",
    "        print(f'{i:7d}/{steps}: {loss.item()}')\n",
    "print(loss.item())"
   ]
  },
  {
   "cell_type": "code",
   "execution_count": 37,
   "id": "14be075f",
   "metadata": {},
   "outputs": [
    {
     "name": "stdout",
     "output_type": "stream",
     "text": [
      "train 2.667194366455078\n"
     ]
    }
   ],
   "source": [
    "#Be able to test the model on our test or dev data to make small changes\n",
    "\n",
    "@torch.no_grad()\n",
    "def split(split):\n",
    "    x,y = {\n",
    "        'train': (Xtr, Ytr),\n",
    "        'val': (Xdev, Ydev),\n",
    "        'test': (Xte, Yte),\n",
    "    }[split]\n",
    "    \n",
    "    emb = C[Xb]\n",
    "    k = torch.tanh(emb.view(-1,30) @ W1 + b1)\n",
    "    k2 = k @ W2 + b2\n",
    "    logits = k2 @ W3 + b3\n",
    "\n",
    "    loss = F.cross_entropy(logits,Yb)\n",
    "    \n",
    "    print(split, loss.item())\n",
    "    \n",
    "split('train')"
   ]
  },
  {
   "cell_type": "code",
   "execution_count": 35,
   "id": "5bc7d789",
   "metadata": {},
   "outputs": [
    {
     "ename": "IndexError",
     "evalue": "index 30 is out of bounds for dimension 0 with size 27",
     "output_type": "error",
     "traceback": [
      "\u001b[0;31m---------------------------------------------------------------------------\u001b[0m",
      "\u001b[0;31mIndexError\u001b[0m                                Traceback (most recent call last)",
      "\u001b[0;32m/var/folders/mj/kb1qg2zn7d9ghdtz0qgm4hzh0000gn/T/ipykernel_62490/1108703125.py\u001b[0m in \u001b[0;36m<module>\u001b[0;34m\u001b[0m\n\u001b[1;32m      7\u001b[0m \u001b[0;34m\u001b[0m\u001b[0m\n\u001b[1;32m      8\u001b[0m     \u001b[0;32mwhile\u001b[0m \u001b[0;32mTrue\u001b[0m\u001b[0;34m:\u001b[0m\u001b[0;34m\u001b[0m\u001b[0;34m\u001b[0m\u001b[0m\n\u001b[0;32m----> 9\u001b[0;31m         \u001b[0memb\u001b[0m \u001b[0;34m=\u001b[0m \u001b[0mC\u001b[0m\u001b[0;34m[\u001b[0m\u001b[0mtorch\u001b[0m\u001b[0;34m.\u001b[0m\u001b[0mtensor\u001b[0m\u001b[0;34m(\u001b[0m\u001b[0;34m[\u001b[0m\u001b[0mcontext\u001b[0m\u001b[0;34m]\u001b[0m\u001b[0;34m)\u001b[0m\u001b[0;34m]\u001b[0m\u001b[0;34m\u001b[0m\u001b[0;34m\u001b[0m\u001b[0m\n\u001b[0m\u001b[1;32m     10\u001b[0m         \u001b[0mh\u001b[0m \u001b[0;34m=\u001b[0m \u001b[0mtorch\u001b[0m\u001b[0;34m.\u001b[0m\u001b[0mtanh\u001b[0m\u001b[0;34m(\u001b[0m\u001b[0memb\u001b[0m\u001b[0;34m.\u001b[0m\u001b[0mview\u001b[0m\u001b[0;34m(\u001b[0m\u001b[0;36m1\u001b[0m\u001b[0;34m,\u001b[0m\u001b[0;34m-\u001b[0m\u001b[0;36m1\u001b[0m\u001b[0;34m)\u001b[0m \u001b[0;34m@\u001b[0m \u001b[0mW1\u001b[0m \u001b[0;34m+\u001b[0m \u001b[0mb1\u001b[0m\u001b[0;34m)\u001b[0m\u001b[0;34m\u001b[0m\u001b[0;34m\u001b[0m\u001b[0m\n\u001b[1;32m     11\u001b[0m         \u001b[0mlogits\u001b[0m \u001b[0;34m=\u001b[0m \u001b[0mh\u001b[0m \u001b[0;34m@\u001b[0m \u001b[0mW2\u001b[0m \u001b[0;34m+\u001b[0m \u001b[0mb2\u001b[0m\u001b[0;34m\u001b[0m\u001b[0;34m\u001b[0m\u001b[0m\n",
      "\u001b[0;31mIndexError\u001b[0m: index 30 is out of bounds for dimension 0 with size 27"
     ]
    }
   ],
   "source": [
    "# Generate words\n",
    "\n",
    "for x in range(50):\n",
    "    \n",
    "    out = []\n",
    "    context = [0] * block\n",
    "    \n",
    "    while True:\n",
    "        emb = C[torch.tensor([context])]\n",
    "        h = torch.tanh(emb.view(1,-1) @ W1 + b1)\n",
    "        k2 = h @ W2 + b2\n",
    "        logits = k2 @ W3 + b3\n",
    "\n",
    "        probs = F.softmax(logits, dim=1)\n",
    "        ix = torch.multinomial(probs, num_samples=1).item()\n",
    "        context = context[1:] + [ix]\n",
    "        out.append(ix)\n",
    "       \n",
    "\n",
    "        if ix==0: \n",
    "            break\n",
    "    \n",
    "    print(''.join(itos[i] for i in out))"
   ]
  },
  {
   "cell_type": "code",
   "execution_count": null,
   "id": "e9295949",
   "metadata": {},
   "outputs": [],
   "source": []
  }
 ],
 "metadata": {
  "kernelspec": {
   "display_name": "Python 3 (ipykernel)",
   "language": "python",
   "name": "python3"
  },
  "language_info": {
   "codemirror_mode": {
    "name": "ipython",
    "version": 3
   },
   "file_extension": ".py",
   "mimetype": "text/x-python",
   "name": "python",
   "nbconvert_exporter": "python",
   "pygments_lexer": "ipython3",
   "version": "3.9.13"
  }
 },
 "nbformat": 4,
 "nbformat_minor": 5
}
