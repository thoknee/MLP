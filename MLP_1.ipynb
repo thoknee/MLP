{
 "cells": [
  {
   "cell_type": "code",
   "execution_count": 2,
   "id": "b48d7daa",
   "metadata": {},
   "outputs": [],
   "source": [
    "import torch\n",
    "import matplotlib.pyplot as plt\n",
    "%matplotlib inline\n",
    "import torch.nn.functional as F"
   ]
  },
  {
   "cell_type": "code",
   "execution_count": 3,
   "id": "86c5db24",
   "metadata": {},
   "outputs": [
    {
     "data": {
      "text/plain": [
       "30000"
      ]
     },
     "execution_count": 3,
     "metadata": {},
     "output_type": "execute_result"
    }
   ],
   "source": [
    "# Open txt files\n",
    "\n",
    "\n",
    "# train = open('Training.txt','r').read().splitlines()\n",
    "test = open('./data/test.txt').read().splitlines()\n",
    "dev = open('./data/dev.txt').read().splitlines()\n",
    "words = open('./data/Training.txt').read().splitlines()\n",
    "len(words)"
   ]
  },
  {
   "cell_type": "code",
   "execution_count": 4,
   "id": "b5611581",
   "metadata": {},
   "outputs": [
    {
     "data": {
      "text/plain": [
       "{1: 'a',\n",
       " 2: 'b',\n",
       " 3: 'c',\n",
       " 4: 'd',\n",
       " 5: 'e',\n",
       " 6: 'f',\n",
       " 7: 'g',\n",
       " 8: 'h',\n",
       " 9: 'i',\n",
       " 10: 'j',\n",
       " 11: 'k',\n",
       " 12: 'l',\n",
       " 13: 'm',\n",
       " 14: 'n',\n",
       " 15: 'o',\n",
       " 16: 'p',\n",
       " 17: 'q',\n",
       " 18: 'r',\n",
       " 19: 's',\n",
       " 20: 't',\n",
       " 21: 'u',\n",
       " 22: 'v',\n",
       " 23: 'w',\n",
       " 24: 'x',\n",
       " 25: 'y',\n",
       " 26: 'z',\n",
       " 0: '.'}"
      ]
     },
     "execution_count": 4,
     "metadata": {},
     "output_type": "execute_result"
    }
   ],
   "source": [
    "# letter to number mapping\n",
    "\n",
    "chars = sorted(list(set(''.join(words))))\n",
    "stoi = {s:i+1 for i,s in enumerate(chars)}\n",
    "stoi['.'] = 0\n",
    "itos = {i:s for s,i in stoi.items()}\n",
    "itos"
   ]
  },
  {
   "cell_type": "code",
   "execution_count": 5,
   "id": "5bc4020f",
   "metadata": {},
   "outputs": [],
   "source": [
    "# Creates the 3 data sets\n",
    "# Each one is composed of \"blocks\" of letters up to our choosing. \n",
    "# Here, we chose 3 so the word \"one\" would be shown as [0,0,'0],[0,0,'o'],[0,'o','n'],['o','n','e']\n",
    "\n",
    "block = 3\n",
    "\n",
    "def dataset(words):\n",
    "\n",
    "\n",
    "    X,Y = [],[]\n",
    "\n",
    "    for w in words:\n",
    "\n",
    "    #     print(w)\n",
    "\n",
    "        context = [0] * block\n",
    "        for ch in w + '.':\n",
    "            ix = stoi[ch]\n",
    "            X.append(context)\n",
    "            Y.append(ix)\n",
    "\n",
    "    #         print(''.join(itos[i] for i in context), itos[ix])\n",
    "            context = context[1:] + [ix]\n",
    "\n",
    "    X = torch.tensor(X)\n",
    "    Y = torch.tensor(Y)\n",
    "    print(X.shape,Y.shape)\n",
    "    return X,Y"
   ]
  },
  {
   "cell_type": "code",
   "execution_count": 6,
   "id": "5e6edf85",
   "metadata": {},
   "outputs": [
    {
     "name": "stdout",
     "output_type": "stream",
     "text": [
      "torch.Size([313130, 3]) torch.Size([313130])\n",
      "torch.Size([104449, 3]) torch.Size([104449])\n",
      "torch.Size([104449, 3]) torch.Size([104449])\n",
      "... --> u\n",
      "..u --> n\n",
      ".un --> a\n",
      "una --> r\n",
      "nar --> r\n",
      "arr --> a\n",
      "rra --> i\n",
      "rai --> g\n",
      "aig --> n\n",
      "ign --> e\n",
      "gne --> d\n",
      "ned --> .\n",
      "... --> c\n",
      "..c --> i\n",
      ".ci --> r\n",
      "cir --> s\n",
      "irs --> o\n",
      "rso --> t\n",
      "sot --> o\n",
      "oto --> m\n"
     ]
    }
   ],
   "source": [
    "Xtr, Ytr = dataset(words)\n",
    "Xdev,Ydev = dataset(dev)\n",
    "Xte, Yte = dataset(test)\n",
    "\n",
    "\n",
    "# Shows how exactly blocking works to show predictions of words.\n",
    "for x,y in zip(Xtr[:20], Ytr[:20]):\n",
    "    print(''.join(itos[ix.item()] for ix in x), '-->', itos[y.item()])"
   ]
  },
  {
   "cell_type": "code",
   "execution_count": 18,
   "id": "6082f71e",
   "metadata": {},
   "outputs": [],
   "source": [
    "# Initializes the neural network. Embedding chooses the dimensionality of the initial neuron and hiddenN is the hidden\n",
    "# Neurons in the one hidden layer\n",
    "\n",
    "embedding = 10\n",
    "hiddenN = 200\n",
    "\n",
    "\n",
    "# Weights and biases normalized\n",
    "W1 = torch.randn((embedding * block, hiddenN)) * (5/3)/((embedding * block)**2)\n",
    "b1 = torch.randn(hiddenN) * 0\n",
    "W2 = torch.randn((hiddenN,27)) * 0.1\n",
    "b2 = torch.randn(27) * 0\n",
    "C = torch.randn(27,embedding)\n",
    "parameters = [C,W1,b1,W2,b2]\n",
    "\n",
    "for p in parameters:\n",
    "    p.requires_grad=True"
   ]
  },
  {
   "cell_type": "code",
   "execution_count": 26,
   "id": "42ddcd86",
   "metadata": {},
   "outputs": [
    {
     "name": "stdout",
     "output_type": "stream",
     "text": [
      "      0/20000: 2.3326010704040527\n",
      "   1000/20000: 2.448707342147827\n",
      "   2000/20000: 2.0864596366882324\n",
      "   3000/20000: 2.294234037399292\n",
      "   4000/20000: 2.0319528579711914\n",
      "   5000/20000: 2.281989097595215\n",
      "   6000/20000: 2.0325756072998047\n",
      "   7000/20000: 2.071772575378418\n",
      "   8000/20000: 2.432504415512085\n",
      "   9000/20000: 2.0393221378326416\n",
      "  10000/20000: 2.1370689868927\n",
      "  11000/20000: 2.4032812118530273\n",
      "  12000/20000: 2.1762139797210693\n",
      "  13000/20000: 2.2088828086853027\n",
      "  14000/20000: 2.1537275314331055\n",
      "  15000/20000: 2.448063373565674\n",
      "  16000/20000: 2.335707902908325\n",
      "  17000/20000: 2.1529223918914795\n",
      "  18000/20000: 2.1583235263824463\n",
      "  19000/20000: 2.481691598892212\n",
      "2.1162142753601074\n"
     ]
    }
   ],
   "source": [
    "# This runs the model on our data\n",
    "\n",
    "steps = 20000\n",
    "batchSize = 32\n",
    "\n",
    "for i in range(steps):\n",
    "    \n",
    "    #Runs on batches\n",
    "    batch = torch.randint(0,Xtr.shape[0],(batchSize,))\n",
    "    Xb, Yb = Xtr[batch], Ytr[batch]\n",
    "    \n",
    "    # Forward pass\n",
    "    emb = C[Xb]\n",
    "    k = torch.tanh(emb.view(emb.shape[0],-1) @ W1 + b1)\n",
    "    logits = k @ W2 + b2\n",
    "    \n",
    "    #Calculates loss\n",
    "    loss = F.cross_entropy(logits,Yb)\n",
    "\n",
    "    for p in parameters:\n",
    "        p.grad = None\n",
    "    \n",
    "    #Backwards pass\n",
    "    loss.backward()\n",
    "    \n",
    "    for p in parameters:\n",
    "        p.data+= -0.001 *p.grad\n",
    "        \n",
    "    if i % 1000 == 0:\n",
    "        print(f'{i:7d}/{steps}: {loss.item()}')\n",
    "print(loss.item())"
   ]
  },
  {
   "cell_type": "code",
   "execution_count": 27,
   "id": "f6d1eca7",
   "metadata": {},
   "outputs": [
    {
     "name": "stdout",
     "output_type": "stream",
     "text": [
      "test 2.1127326488494873\n"
     ]
    }
   ],
   "source": [
    "#Be able to test the model on our test or dev data to make small changes\n",
    "\n",
    "@torch.no_grad()\n",
    "def split(split):\n",
    "    x,y = {\n",
    "        'train': (Xtr, Ytr),\n",
    "        'val': (Xdev, Ydev),\n",
    "        'test': (Xte, Yte),\n",
    "    }[split]\n",
    "    \n",
    "    emb = C[Xb]\n",
    "    k = torch.tanh(emb.view(-1,30) @ W1 + b1)\n",
    "    logits = k @ W2 + b2\n",
    "\n",
    "    loss = F.cross_entropy(logits,Yb)\n",
    "    \n",
    "    print(split, loss.item())\n",
    "    \n",
    "split('test')\n",
    "    "
   ]
  },
  {
   "cell_type": "code",
   "execution_count": 21,
   "id": "5fa3d25d",
   "metadata": {},
   "outputs": [
    {
     "name": "stdout",
     "output_type": "stream",
     "text": [
      "unbadid.\n",
      "audhrinit.\n",
      "actole.\n",
      "umprotes.\n",
      "tite.\n",
      "fantunnimiolatisnece.\n",
      "bam.\n",
      "subeg.\n",
      "soreb.\n",
      "nacnongmocogchile.\n",
      "mocresileaty.\n",
      "trognenor.\n",
      "noswuq.\n",
      "myin.\n",
      "gxeic.\n",
      "ung.\n",
      "brulyo.\n",
      "nit.\n",
      "monesud.\n",
      "ter.\n",
      "iolinmodetabharigint.\n",
      "umonkartut.\n",
      "metuad.\n",
      "centing.\n",
      "panminesburcocolionse.\n",
      "canssph.\n",
      "grolib.\n",
      "cretzrmersate.\n",
      "doteawhatioterdy.\n",
      "vioeohilostlisedinpermiresmenos.\n",
      "las.\n",
      "dypicompialoph.\n",
      "barhoredpolmpalosibenduntived.\n",
      "unk.\n",
      "noprodoryhery.\n",
      "chedosomes.\n",
      "munin.\n",
      "auphosababtertsraplovychos.\n",
      "asongrec.\n",
      "tatrarl.\n",
      "nfict.\n",
      "cab.\n",
      "tietarolyudtrognote.\n",
      "sey.\n",
      "bfers.\n",
      "earuphimcbrin.\n",
      "unmating.\n",
      "prophrotreldsh.\n",
      "canminsers.\n",
      "blin.\n"
     ]
    }
   ],
   "source": [
    "# Generate words\n",
    "\n",
    "for x in range(50):\n",
    "    \n",
    "    out = []\n",
    "    context = [0] * block\n",
    "    \n",
    "    while True:\n",
    "        emb = C[torch.tensor([context])]\n",
    "        h = torch.tanh(emb.view(1,-1) @ W1 + b1)\n",
    "        logits = h @ W2 + b2\n",
    "\n",
    "        probs = F.softmax(logits, dim=1)\n",
    "        ix = torch.multinomial(probs, num_samples=1).item()\n",
    "        context = context[1:] + [ix]\n",
    "        out.append(ix)\n",
    "       \n",
    "\n",
    "        if ix==0: \n",
    "            break\n",
    "    \n",
    "    print(''.join(itos[i] for i in out))"
   ]
  },
  {
   "cell_type": "code",
   "execution_count": null,
   "id": "48096922",
   "metadata": {},
   "outputs": [],
   "source": []
  },
  {
   "cell_type": "code",
   "execution_count": null,
   "id": "4db9b27b",
   "metadata": {},
   "outputs": [],
   "source": []
  }
 ],
 "metadata": {
  "kernelspec": {
   "display_name": "Python 3 (ipykernel)",
   "language": "python",
   "name": "python3"
  },
  "language_info": {
   "codemirror_mode": {
    "name": "ipython",
    "version": 3
   },
   "file_extension": ".py",
   "mimetype": "text/x-python",
   "name": "python",
   "nbconvert_exporter": "python",
   "pygments_lexer": "ipython3",
   "version": "3.9.13"
  }
 },
 "nbformat": 4,
 "nbformat_minor": 5
}
