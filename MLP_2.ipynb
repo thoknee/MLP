{
 "cells": [
  {
   "cell_type": "code",
   "execution_count": 1,
   "id": "eaac3000",
   "metadata": {},
   "outputs": [],
   "source": [
    "import torch\n",
    "import matplotlib.pyplot as plt\n",
    "%matplotlib inline\n",
    "import torch.nn.functional as F"
   ]
  },
  {
   "cell_type": "code",
   "execution_count": 2,
   "id": "7bd645e5",
   "metadata": {},
   "outputs": [
    {
     "data": {
      "text/plain": [
       "30000"
      ]
     },
     "execution_count": 2,
     "metadata": {},
     "output_type": "execute_result"
    }
   ],
   "source": [
    "# Open txt files\n",
    "\n",
    "\n",
    "# train = open('Training.txt','r').read().splitlines()\n",
    "test = open('./data/test.txt').read().splitlines()\n",
    "dev = open('./data/dev.txt').read().splitlines()\n",
    "words = open('./data/Training.txt').read().splitlines()\n",
    "len(words)"
   ]
  },
  {
   "cell_type": "code",
   "execution_count": 10,
   "id": "27574edd",
   "metadata": {},
   "outputs": [
    {
     "data": {
      "text/plain": [
       "{1: 'a',\n",
       " 2: 'b',\n",
       " 3: 'c',\n",
       " 4: 'd',\n",
       " 5: 'e',\n",
       " 6: 'f',\n",
       " 7: 'g',\n",
       " 8: 'h',\n",
       " 9: 'i',\n",
       " 10: 'j',\n",
       " 11: 'k',\n",
       " 12: 'l',\n",
       " 13: 'm',\n",
       " 14: 'n',\n",
       " 15: 'o',\n",
       " 16: 'p',\n",
       " 17: 'q',\n",
       " 18: 'r',\n",
       " 19: 's',\n",
       " 20: 't',\n",
       " 21: 'u',\n",
       " 22: 'v',\n",
       " 23: 'w',\n",
       " 24: 'x',\n",
       " 25: 'y',\n",
       " 26: 'z',\n",
       " 0: '.'}"
      ]
     },
     "execution_count": 10,
     "metadata": {},
     "output_type": "execute_result"
    }
   ],
   "source": [
    "# letter to number mapping\n",
    "\n",
    "chars = sorted(list(set(''.join(words))))\n",
    "stoi = {s:i+1 for i,s in enumerate(chars)}\n",
    "stoi['.'] = 0\n",
    "itos = {i:s for s,i in stoi.items()}\n",
    "itos"
   ]
  },
  {
   "cell_type": "code",
   "execution_count": 14,
   "id": "d785b1a6",
   "metadata": {},
   "outputs": [
    {
     "name": "stdout",
     "output_type": "stream",
     "text": [
      "torch.Size([313130, 3]) torch.Size([313130])\n",
      "torch.Size([104449, 3]) torch.Size([104449])\n",
      "torch.Size([104449, 3]) torch.Size([104449])\n"
     ]
    }
   ],
   "source": [
    "\n",
    "# Creates the 3 data sets\n",
    "# Each one is composed of \"blocks\" of letters up to our choosing. \n",
    "# Here, we chose 3 so the word \"one\" would be shown as [0,0,'0],[0,0,'o'],[0,'o','n'],['o','n','e']\n",
    "\n",
    "block = 3\n",
    "\n",
    "def dataset(words):\n",
    "\n",
    "\n",
    "    X,Y = [],[]\n",
    "\n",
    "    for w in words:\n",
    "\n",
    "    #     print(w)\n",
    "\n",
    "        context = [0] * block\n",
    "        for ch in w + '.':\n",
    "            ix = stoi[ch]\n",
    "            X.append(context)\n",
    "            Y.append(ix)\n",
    "\n",
    "    #         print(''.join(itos[i] for i in context), itos[ix])\n",
    "            context = context[1:] + [ix]\n",
    "\n",
    "    X = torch.tensor(X)\n",
    "    Y = torch.tensor(Y)\n",
    "    print(X.shape,Y.shape)\n",
    "    return X,Y\n",
    "\n",
    "Xtr, Ytr = dataset(words)\n",
    "Xdev,Ydev = dataset(dev)\n",
    "Xte, Yte = dataset(test)"
   ]
  },
  {
   "cell_type": "code",
   "execution_count": 18,
   "id": "97e1053f",
   "metadata": {},
   "outputs": [
    {
     "data": {
      "text/plain": [
       "torch.Size([200])"
      ]
     },
     "execution_count": 18,
     "metadata": {},
     "output_type": "execute_result"
    }
   ],
   "source": [
    "# Initializes the neural network. Embedding chooses the dimensionality of the initial neuron and hiddenN is the hidden\n",
    "# Neurons in the one hidden layer\n",
    "\n",
    "embedding = 10\n",
    "hiddenN = 200\n",
    "\n",
    "\n",
    "# Weights and biases normalized\n",
    "W1 = torch.randn((embedding * block, hiddenN)) * (5/3)/((embedding * block)**2)\n",
    "b1 = torch.randn(hiddenN) * 0\n",
    "\n",
    "W2 = torch.randn((hiddenN, hiddenN)) * (5/3) / hiddenN**0.5\n",
    "b2 = torch.randn(hiddenN) * 0\n",
    "\n",
    "\n",
    "W3 = torch.randn((hiddenN,27)) * 0.1\n",
    "b3 = torch.randn(27) * 0\n",
    "C = torch.randn(27,embedding)\n",
    "parameters = [C,W1,b1,W2, b2, W3,b3]\n",
    "\n",
    "for p in parameters:\n",
    "    p.requires_grad=True\n",
    "\n",
    "b1.size()"
   ]
  },
  {
   "cell_type": "code",
   "execution_count": 46,
   "id": "0f1cc996",
   "metadata": {},
   "outputs": [
    {
     "name": "stdout",
     "output_type": "stream",
     "text": [
      "      0/100000: 2.116586923599243\n",
      "  10000/100000: 2.597865104675293\n",
      "  20000/100000: 2.082200050354004\n",
      "  30000/100000: 2.391022205352783\n",
      "  40000/100000: 2.533857583999634\n",
      "  50000/100000: 2.3716158866882324\n",
      "  60000/100000: 2.0154688358306885\n",
      "  70000/100000: 2.288945436477661\n",
      "  80000/100000: 2.426788568496704\n",
      "  90000/100000: 2.324061155319214\n",
      "2.059821128845215\n"
     ]
    }
   ],
   "source": [
    "# This runs the model on our data\n",
    "\n",
    "steps = 100000\n",
    "batchSize = 32\n",
    "\n",
    "for i in range(steps):\n",
    "    \n",
    "    #Runs on batches\n",
    "    batch = torch.randint(0,Xtr.shape[0],(batchSize,))\n",
    "    Xb, Yb = Xtr[batch], Ytr[batch]\n",
    "    \n",
    "    # Forward pass\n",
    "    emb = C[Xb]\n",
    "    k = torch.tanh(emb.view(emb.shape[0],-1) @ W1 + b1)\n",
    "    k2 = torch.tanh(k @ W2 + b2)\n",
    "    logits = k2 @ W3 + b3\n",
    "    \n",
    "    #Calculates loss\n",
    "    loss = F.cross_entropy(logits,Yb)\n",
    "\n",
    "    for p in parameters:\n",
    "        p.grad = None\n",
    "    \n",
    "    #Backwards pass\n",
    "    loss.backward()\n",
    "    \n",
    "    for p in parameters:\n",
    "        p.data+= -0.001 *p.grad\n",
    "        \n",
    "    if i % 10000 == 0:\n",
    "        print(f'{i:7d}/{steps}: {loss.item()}')\n",
    "print(loss.item())"
   ]
  },
  {
   "cell_type": "code",
   "execution_count": 47,
   "id": "4ef6c8c7",
   "metadata": {},
   "outputs": [
    {
     "name": "stdout",
     "output_type": "stream",
     "text": [
      "test 3.456343173980713\n"
     ]
    }
   ],
   "source": [
    "#Be able to test the model on our test or dev data to make small changes\n",
    "\n",
    "@torch.no_grad()\n",
    "def split(split):\n",
    "    x,y = {\n",
    "        'train': (Xtr, Ytr),\n",
    "        'val': (Xdev, Ydev),\n",
    "        'test': (Xte, Yte),\n",
    "    }[split]\n",
    "    \n",
    "    emb = C[x]\n",
    "    k = torch.tanh(emb.view(emb.shape[0],-1) @ W1 + b1)\n",
    "    k2 = k @ W2 + b2\n",
    "    logits = k2 @ W3 + b3\n",
    "\n",
    "    loss = F.cross_entropy(logits,y)\n",
    "    \n",
    "    print(split, loss.item())\n",
    "    \n",
    "split('test')"
   ]
  },
  {
   "cell_type": "code",
   "execution_count": 48,
   "id": "6e5f677a",
   "metadata": {},
   "outputs": [
    {
     "name": "stdout",
     "output_type": "stream",
     "text": [
      "niryshrosiresisteressaneate.\n",
      "nedfecetat.\n",
      "iredir.\n",
      "phorostedecreedeneres.\n",
      "natelyt.\n",
      "notanestelosatelatatil.\n",
      "natestelet.\n",
      "nubat.\n",
      "nat.\n",
      "niredaresesteredilesisterededes.\n",
      "nophotalstened.\n",
      "necet.\n",
      "medetaniet.\n",
      "sumenededil.\n",
      "riphilastotal.\n",
      "natentaristedisterateredeneedatiles.\n",
      "nopoleterilesteredatenesteres.\n",
      "notile.\n",
      "neceril.\n",
      "notenederestededederestes.\n",
      "nirillis.\n",
      "pirestenin.\n",
      "nat.\n",
      "necestenedil.\n",
      "natedilestundaristeril.\n",
      "noperiles.\n",
      "otal.\n",
      "edat.\n",
      "restestagin.\n",
      "nederilotanesiredeseredecolydatenedir.\n",
      "ratededestiteniles.\n",
      "riremen.\n",
      "telestarestoris.\n",
      "nugenat.\n",
      "echoscerestet.\n",
      "ropheteedetet.\n",
      "notiet.\n",
      "notil.\n",
      "netelat.\n",
      "niceisteredesterecenteed.\n",
      "hil.\n",
      "neteres.\n",
      "nedet.\n",
      "nedireseres.\n",
      "petestereteles.\n",
      "nires.\n",
      "notenestenusterces.\n",
      "netenetares.\n",
      "nates.\n",
      "lat.\n"
     ]
    }
   ],
   "source": [
    "# Generate words\n",
    "\n",
    "for x in range(50):\n",
    "    \n",
    "    out = []\n",
    "    context = [0] * block\n",
    "    \n",
    "    while True:\n",
    "        emb = C[torch.tensor([context])]\n",
    "        h = torch.tanh(emb.view(1,-1) @ W1 + b1)\n",
    "        k2 = h @ W2 + b2\n",
    "        logits = k2 @ W3 + b3\n",
    "\n",
    "        probs = F.softmax(logits, dim=1)\n",
    "        ix = torch.multinomial(probs, num_samples=1).item()\n",
    "        context = context[1:] + [ix]\n",
    "        out.append(ix)\n",
    "       \n",
    "\n",
    "        if ix==0: \n",
    "            break\n",
    "    \n",
    "    print(''.join(itos[i] for i in out))"
   ]
  },
  {
   "cell_type": "code",
   "execution_count": null,
   "id": "02d45c79",
   "metadata": {},
   "outputs": [],
   "source": []
  }
 ],
 "metadata": {
  "kernelspec": {
   "display_name": "Python 3 (ipykernel)",
   "language": "python",
   "name": "python3"
  },
  "language_info": {
   "codemirror_mode": {
    "name": "ipython",
    "version": 3
   },
   "file_extension": ".py",
   "mimetype": "text/x-python",
   "name": "python",
   "nbconvert_exporter": "python",
   "pygments_lexer": "ipython3",
   "version": "3.9.13"
  }
 },
 "nbformat": 4,
 "nbformat_minor": 5
}
