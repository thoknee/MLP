{
 "cells": [
  {
   "cell_type": "code",
   "execution_count": 2,
   "id": "b48d7daa",
   "metadata": {},
   "outputs": [],
   "source": [
    "import torch\n",
    "import matplotlib.pyplot as plt\n",
    "%matplotlib inline\n",
    "import torch.nn.functional as F"
   ]
  },
  {
   "cell_type": "code",
   "execution_count": 4,
   "id": "86c5db24",
   "metadata": {},
   "outputs": [
    {
     "data": {
      "text/plain": [
       "30000"
      ]
     },
     "execution_count": 4,
     "metadata": {},
     "output_type": "execute_result"
    }
   ],
   "source": [
    "\n",
    "# train = open('Training.txt','r').read().splitlines()\n",
    "test = open('test.txt').read().splitlines()\n",
    "dev = open('dev.txt').read().splitlines()\n",
    "words = open('Training.txt').read().splitlines()\n",
    "len(words)"
   ]
  },
  {
   "cell_type": "code",
   "execution_count": 5,
   "id": "b5611581",
   "metadata": {},
   "outputs": [
    {
     "data": {
      "text/plain": [
       "{1: 'a',\n",
       " 2: 'b',\n",
       " 3: 'c',\n",
       " 4: 'd',\n",
       " 5: 'e',\n",
       " 6: 'f',\n",
       " 7: 'g',\n",
       " 8: 'h',\n",
       " 9: 'i',\n",
       " 10: 'j',\n",
       " 11: 'k',\n",
       " 12: 'l',\n",
       " 13: 'm',\n",
       " 14: 'n',\n",
       " 15: 'o',\n",
       " 16: 'p',\n",
       " 17: 'q',\n",
       " 18: 'r',\n",
       " 19: 's',\n",
       " 20: 't',\n",
       " 21: 'u',\n",
       " 22: 'v',\n",
       " 23: 'w',\n",
       " 24: 'x',\n",
       " 25: 'y',\n",
       " 26: 'z',\n",
       " 0: '.'}"
      ]
     },
     "execution_count": 5,
     "metadata": {},
     "output_type": "execute_result"
    }
   ],
   "source": [
    "chars = sorted(list(set(''.join(words))))\n",
    "stoi = {s:i+1 for i,s in enumerate(chars)}\n",
    "stoi['.'] = 0\n",
    "itos = {i:s for s,i in stoi.items()}\n",
    "itos"
   ]
  },
  {
   "cell_type": "code",
   "execution_count": 6,
   "id": "5bc4020f",
   "metadata": {},
   "outputs": [],
   "source": [
    "block = 3\n",
    "\n",
    "def dataset(words):\n",
    "\n",
    "\n",
    "    X,Y = [],[]\n",
    "\n",
    "    for w in words:\n",
    "\n",
    "    #     print(w)\n",
    "\n",
    "        context = [0] * block\n",
    "        for ch in w + '.':\n",
    "            ix = stoi[ch]\n",
    "            X.append(context)\n",
    "            Y.append(ix)\n",
    "\n",
    "    #         print(''.join(itos[i] for i in context), itos[ix])\n",
    "            context = context[1:] + [ix]\n",
    "\n",
    "    X = torch.tensor(X)\n",
    "    Y = torch.tensor(Y)\n",
    "    print(X.shape,Y.shape)\n",
    "    return X,Y"
   ]
  },
  {
   "cell_type": "code",
   "execution_count": 7,
   "id": "5e6edf85",
   "metadata": {},
   "outputs": [
    {
     "name": "stdout",
     "output_type": "stream",
     "text": [
      "torch.Size([313130, 3]) torch.Size([313130])\n",
      "torch.Size([104449, 3]) torch.Size([104449])\n",
      "torch.Size([104449, 3]) torch.Size([104449])\n"
     ]
    }
   ],
   "source": [
    "Xtr, Ytr = dataset(words)\n",
    "Xdev,Ydev = dataset(dev)\n",
    "Xte, Yte = dataset(test)"
   ]
  },
  {
   "cell_type": "code",
   "execution_count": 37,
   "id": "6082f71e",
   "metadata": {},
   "outputs": [],
   "source": [
    "embedding = 10\n",
    "hiddenN = 200\n",
    "\n",
    "\n",
    "\n",
    "W1 = torch.randn((embedding * block, hiddenN)) * (5/3)/((embedding * block)**2)\n",
    "b1 = torch.randn(hiddenN) * 0\n",
    "W2 = torch.randn((hiddenN,27)) * 0.1\n",
    "b2 = torch.randn(27) * 0\n",
    "C = torch.randn(27,embedding)\n",
    "parameters = [C,W1,b1,W2,b2]\n",
    "\n",
    "for p in parameters:\n",
    "    p.requires_grad=True"
   ]
  },
  {
   "cell_type": "code",
   "execution_count": 39,
   "id": "42ddcd86",
   "metadata": {},
   "outputs": [
    {
     "name": "stdout",
     "output_type": "stream",
     "text": [
      "      0/20000: 2.6827774047851562\n",
      "   1000/20000: 2.8411030769348145\n",
      "   2000/20000: 2.4327518939971924\n",
      "   3000/20000: 2.576658010482788\n",
      "   4000/20000: 2.490173578262329\n",
      "   5000/20000: 2.3784046173095703\n",
      "   6000/20000: 2.2363433837890625\n",
      "   7000/20000: 2.516340970993042\n",
      "   8000/20000: 2.8147056102752686\n",
      "   9000/20000: 2.156680107116699\n",
      "  10000/20000: 2.61238431930542\n",
      "  11000/20000: 2.436800241470337\n",
      "  12000/20000: 2.3237972259521484\n",
      "  13000/20000: 2.4492952823638916\n",
      "  14000/20000: 2.6403822898864746\n",
      "  15000/20000: 2.585055351257324\n",
      "  16000/20000: 2.325439929962158\n",
      "  17000/20000: 2.7887122631073\n",
      "  18000/20000: 2.262218713760376\n",
      "  19000/20000: 2.4665403366088867\n",
      "2.4938066005706787\n"
     ]
    }
   ],
   "source": [
    "steps = 20000\n",
    "batchSize = 32\n",
    "\n",
    "for i in range(steps):\n",
    "    \n",
    "    batch = torch.randint(0,Xtr.shape[0],(batchSize,))\n",
    "    Xb, Yb = Xtr[batch], Ytr[batch]\n",
    "    \n",
    "    emb = C[Xb]\n",
    "    k = torch.tanh(emb.view(emb.shape[0],-1) @ W1 + b1)\n",
    "    logits = k @ W2 + b2\n",
    "\n",
    "    loss = F.cross_entropy(logits,Yb)\n",
    "\n",
    "    for p in parameters:\n",
    "        p.grad = None\n",
    "        \n",
    "    loss.backward()\n",
    "    \n",
    "    for p in parameters:\n",
    "        p.data+= -0.01 *p.grad\n",
    "        \n",
    "    if i % 1000 == 0:\n",
    "        print(f'{i:7d}/{steps}: {loss.item()}')\n",
    "print(loss.item())"
   ]
  },
  {
   "cell_type": "code",
   "execution_count": 35,
   "id": "f6d1eca7",
   "metadata": {},
   "outputs": [
    {
     "name": "stdout",
     "output_type": "stream",
     "text": [
      "test 2.140054941177368\n"
     ]
    }
   ],
   "source": [
    "@torch.no_grad()\n",
    "def split(split):\n",
    "    x,y = {\n",
    "        'train': (Xtr, Ytr),\n",
    "        'val': (Xdev, Ydev),\n",
    "        'test': (Xte, Yte),\n",
    "    }[split]\n",
    "    \n",
    "    emb = C[Xb]\n",
    "    k = torch.tanh(emb.view(-1,30) @ W1 + b1)\n",
    "    logits = k @ W2 + b2\n",
    "\n",
    "    loss = F.cross_entropy(logits,Yb)\n",
    "    \n",
    "    print(split, loss.item())\n",
    "    \n",
    "split('test')\n",
    "    "
   ]
  },
  {
   "cell_type": "code",
   "execution_count": 24,
   "id": "5fa3d25d",
   "metadata": {},
   "outputs": [
    {
     "name": "stdout",
     "output_type": "stream",
     "text": [
      "boborah.\n",
      "uniful.\n",
      "scovermatoler.\n",
      "subundercurectomeutingly.\n",
      "desing.\n",
      "rehreneted.\n",
      "ans.\n",
      "doscontrichydrophed.\n",
      "gemounancirred.\n",
      "blerminous.\n",
      "geated.\n",
      "houissaoghoolicatindeilated.\n",
      "saas.\n",
      "angs.\n",
      "dipera.\n",
      "vagial.\n",
      "addleviscloys.\n",
      "poffer.\n",
      "ciardmetgeriloism.\n",
      "mucally.\n",
      "paquiality.\n",
      "staiding.\n",
      "gist.\n",
      "piakion.\n",
      "traos.\n",
      "king.\n",
      "ally.\n",
      "hymess.\n",
      "palsservolupolt.\n",
      "coback.\n",
      "memesterowkiata.\n",
      "hypituciologicentian.\n",
      "corutosis.\n",
      "exchloddolenbultalitypoism.\n",
      "supersmiadled.\n",
      "zooxine.\n",
      "unch.\n",
      "baddinabildousness.\n",
      "ced.\n",
      "lilados.\n",
      "outwiatificatplostlose.\n",
      "hoera.\n",
      "poric.\n",
      "jampieotral.\n",
      "xeizy.\n",
      "phite.\n",
      "tiblenersate.\n",
      "carphabriat.\n",
      "nia.\n",
      "smargated.\n"
     ]
    }
   ],
   "source": [
    "for x in range(50):\n",
    "    \n",
    "    out = []\n",
    "    context = [0] * block\n",
    "    \n",
    "    while True:\n",
    "        emb = C[torch.tensor([context])]\n",
    "        h = torch.tanh(emb.view(1,-1) @ W1 + b1)\n",
    "        logits = h @ W2 + b2\n",
    "\n",
    "        probs = F.softmax(logits, dim=1)\n",
    "        ix = torch.multinomial(probs, num_samples=1).item()\n",
    "        context = context[1:] + [ix]\n",
    "        out.append(ix)\n",
    "       \n",
    "\n",
    "        if ix==0: \n",
    "            break\n",
    "    \n",
    "    print(''.join(itos[i] for i in out))"
   ]
  },
  {
   "cell_type": "code",
   "execution_count": null,
   "id": "48096922",
   "metadata": {},
   "outputs": [],
   "source": []
  }
 ],
 "metadata": {
  "kernelspec": {
   "display_name": "Python 3 (ipykernel)",
   "language": "python",
   "name": "python3"
  },
  "language_info": {
   "codemirror_mode": {
    "name": "ipython",
    "version": 3
   },
   "file_extension": ".py",
   "mimetype": "text/x-python",
   "name": "python",
   "nbconvert_exporter": "python",
   "pygments_lexer": "ipython3",
   "version": "3.9.13"
  }
 },
 "nbformat": 4,
 "nbformat_minor": 5
}
